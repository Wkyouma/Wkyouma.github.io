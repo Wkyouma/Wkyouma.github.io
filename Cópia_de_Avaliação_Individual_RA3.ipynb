{
  "nbformat": 4,
  "nbformat_minor": 0,
  "metadata": {
    "colab": {
      "provenance": [],
      "include_colab_link": true
    },
    "kernelspec": {
      "name": "python3",
      "display_name": "Python 3"
    },
    "language_info": {
      "name": "python"
    }
  },
  "cells": [
    {
      "cell_type": "markdown",
      "metadata": {
        "id": "view-in-github",
        "colab_type": "text"
      },
      "source": [
        "<a href=\"https://colab.research.google.com/github/Wkyouma/Wkyouma.github.io/blob/main/C%C3%B3pia_de_Avalia%C3%A7%C3%A3o_Individual_RA3.ipynb\" target=\"_parent\"><img src=\"https://colab.research.google.com/assets/colab-badge.svg\" alt=\"Open In Colab\"/></a>"
      ]
    },
    {
      "cell_type": "markdown",
      "source": [
        "# Avaliação Individual RA3 - 2024-1\n",
        "\n",
        "**Antes de começar, leia estas instruções cuidadosamente.**\n",
        "Esta avaliação é individual. Você poderá consultar qualquer fonte disponível na biblioteca, suas anotações ou na internet. Você não pode consultar outras pessoas mesmo por meio eletrônico.\n",
        "\n",
        "**Crie uma cópia deste caderno agora!** E continue lendo as instruções nesta cópia.\n",
        "\n",
        "**Não existirão prorrogações de prazo de entrega.** Se programe para entregar sua avaliação 5 minutos antes do fim do prazo para evitar imprevistos de última hora.\n",
        "\n",
        "**Trabalhos idênticos entregues por pessoas, diferentes, serão zerados.** Todos os trabalhos poderão ser submetidos a verificação de plágio. Por meio do sistema de instituição ou outro qualquer disponível na internet. Isso significa que respostas copiadas e coladas de sistemas de inteligência artificial que sejam classificados com semelhança maior que 70% também serão zerados. Qualquer diagnóstico indicativo de plágio acima de 70% também irá provocar o zeramento da avaliação.\n",
        "\n",
        "Para que sua avaliação seja considerada **ela deve ser entregues em uma cópia deste caderno de atividades na forma de um link postado no AVA da instituição (Canvas)** apenas no local correspondente a essa entrega na avaliação. Qualquer link enviado em comentários, e-mails, mensagens de Whatsapp, ou qualquer outro meio eletrônico serão ignorados provocando o zeramento desta avaliação.\n",
        "\n",
        "Entrega será realizada com a postagem de um link apontando para um ambiente de execução, no AVA da institução. Neste link o **seu caderno deve permitir ser executado (permissão de leitor)**. Serão aceitos links diretos ao ambiente do Google Colaboratory, ou Links a um caderno do Google Colaboratory que tenha sido **salvo pelo próprio Google Colaboratory** no GitHub. Links para outro ambiente, ou que requeiram qualquer tipo de **download, cliques extras, ou ainda, que requeiram aprovação para acesso, provocarão o zeramento desta avaliação**.\n",
        "\n",
        "Antes de enviar o seu trabalho, teste o compartilhamento em uma aba anônima do seu navegador web preferido.\n",
        "\n",
        "Todos os enunciados devem ser preservados e você deverá inserir uma célula de textos com o **seu nome, IMEDIATATAMENTE APÓS esta célula de texto** onde estão estas instruções.\n",
        "\n",
        "**Qualquer alteração do caderno contendo as suas respostas que seja registrada após a data de postagem provocará a anulação da avaliação**.\n",
        "\n",
        "Você poderá usar, nas suas respostas, só e somente só, a **linguagem Python** limitada ao uso das seguintes bibliotecas: **math, numpy, sympy, matplotlib, ipWidgets e IPython**. O uso de qualquer biblioteca não listada nestas instruções irá provocar o zeramento da questão.\n",
        "\n",
        "**Todo e qualquer gráfico que usar nas suas respostas deverá ser criado usando o Python**.\n",
        "\n",
        "**Todas as questões devem ser respondidas em caixas de texto, usando latex para permitir a renderização com qualidade matemática.** Exceto quando a questão indicar que você pode usar qualquer técnica computacional. Neste caso, as técnicas estarão limitadas as técnicas vistas em sala e as técnicas baseadas no retângulo de Reimann.\n",
        "\n",
        "Não é permitido usar qualquer técnica matemática baseada em cálculo numérico, séries de Taylor. de Leibntz, ou de qualquer outro tipo, ou ainda conhecimento matemático que fuja dos conteúdos apresenados em aula referentes ao estudo da integração.\n",
        "\n",
        "**Você poderá utilizar técnicas numéricas para calcular áreas, ou para encontrar o polinômio referente a um dado conjunto de pontos. Ainda a sim, sua resposta deve ser explicada em uma caixa de textos, usando latex para as equações matemáticas. Ainda assim, estas técnicas estão limitadas as técnicas apresentadas em sala (Reimann, Lagrange)**.\n",
        "\n",
        "**Esta avaliação está limitada a conteúdo de técnicas, regras e conceitos de integração**. Porém, pode ocorrer a necessidade do uso dos conceitos e técnicas de limites, ou derivadas para a solução das questões. Neste caso, o uso de técnicas de derivação está limitado as técnicas apresentadas em sala. Estando exclúidos qualquer método que inclua o uso de séries.\n",
        "\n",
        "Se você encontrar algo errado nesta avaliação anote suas observações na própria questão. Suas observações serão consideradas durante a avaliação e, em caso de pertinência, poderão encejar a anulação do item, ou da questão relacionados ao erro que você encontrou de acordo com os critérios do professor.\n",
        "\n",
        "**ATENÇÃO: TODAS AS QUESTÕES DEVEM SER RESPONDIDAS NA CÉLULA EM BRANCO QUE EXISTE APÓS CADA ENUNCIADO. OS ENUNCIADOS TÊM QUE SER PRESERVADOS.** Se, por algum motivo, ao fazer a cópia deste caderno de questões você perca as células em branco, deve criar uma nova célula após cada enunciado para colocar sua resposta. Você poderá criar quantas células de texto, ou código, que precisar desde que estas células estejam entre a questão que você está respondendo e a próxima questão deste caderno.\n",
        "\n",
        "**Lembrem-se a interpretação faz parte da questão.**\n",
        "\n",
        "**Rubrica de Avaliação**: As questões serão consideradas corretas se, e somente se, apresentarem a resposta correta, o processo algébrico estiver claro, completo e conciso (nenhuma passagem não explicada), os gráficos contiverem todas as informações necessárias ao seu entendimento.\n",
        "\n",
        "## Regras de Integração\n",
        "\n",
        "### Regras de Integração em Português\n",
        "\n",
        "$$\n",
        "\\int k \\, dx = kx + C, \\quad \\text{onde } k \\text{ é uma constante}\n",
        "$$\n",
        "\n",
        "$$\n",
        "\\int x^n \\, dx = \\frac{1}{n + 1} x^{n + 1} + C, \\quad \\text{se } n \\neq -1\n",
        "$$\n",
        "\n",
        "$$\n",
        "\\int \\frac{1}{x} \\, dx = \\ln |x| + C\n",
        "$$\n",
        "\n",
        "$$\n",
        "\\int k f(x) \\, dx = k \\int f(x) \\, dx\n",
        "$$\n",
        "\n",
        "$$\n",
        "\\int \\left( f(x) \\pm g(x) \\right) \\, dx = \\int f(x) \\, dx \\pm \\int g(x) \\, dx\n",
        "$$\n",
        "\n",
        "$$\n",
        "\\int \\sin x \\, dx = -\\cos x + C\n",
        "$$\n",
        "\n",
        "$$\n",
        "\\int \\cos x \\, dx = \\sin x + C\n",
        "$$\n",
        "\n",
        "$$\n",
        "\\int e^x \\, dx = e^x + C\n",
        "$$\n"
      ],
      "metadata": {
        "id": "vgXVkO9FGMwU"
      }
    },
    {
      "cell_type": "markdown",
      "source": [
        "# Questão 1 - Vale até 1 ponto\n",
        "Em uma região desértica, pesquisadores estão estudando o crescimento de uma espécie rara de cacto. O crescimento do cacto ao longo do tempo é modelado pela função $y = x^5(2 - x)$, onde $y$ representa a altura do cacto em metros e $x$ representa o tempo em anos desde o início do estudo. Os pesquisadores querem determinar a quantidade total de biomassa acumulada pelo cacto ao longo dos primeiros 2 anos. Sabemos, de estudos anteriores que a biomassa acumulada é diretamente proporcional (1:1) a área sob a curva de crescimento do cacto ao longo do tempo. Determine a quantidade total de biomassa acumulada nestes dois anos.\n",
        "\n"
      ],
      "metadata": {
        "id": "vT6WZq9ZKd-r"
      }
    },
    {
      "cell_type": "markdown",
      "source": [
        " calculando a área sob a curva da função $ y = x^5(2 - x) $ no intervalo de $ x = 0 $ e $ 2 $\n",
        "\n",
        " calculando a integral definida da função $y$ no intervalo de $ 0$ a $2 $:\n",
        "\n",
        "$$\n",
        "\\int_{0}^{2} x^5(2 - x) \\, dx\n",
        "$$\n",
        "\n",
        "resolvendo a integral\n",
        "\n",
        "\n",
        "\n",
        "$$\n",
        "\\int_{0}^{2} (2x^5 - x^6) \\, dx\n",
        "$$\n",
        "\n",
        "\n",
        "\n",
        "$$\n",
        "\\int_{0}^{2} 2x^5 \\, dx - \\int_{0}^{2} x^6 \\, dx\n",
        "$$\n",
        "\n",
        "$$\n",
        "\\int 2x^5 \\, dx = 2 \\int x^5 \\, dx = 2 \\left( \\frac{x^6}{6} \\right) = \\frac{2}{6} x^6 = \\frac{1}{3} x^6\n",
        "$$\n",
        "\n",
        "Agora, a integral é de $ x^6 $:\n",
        "\n",
        "$$\n",
        "\\int x^6 \\, dx = \\frac{x^7}{7}\n",
        "$$\n",
        "\n",
        "\n",
        "Para $ \\frac{1}{3} x^6 $:\n",
        "\n",
        "$$\n",
        "\\left[ \\frac{1}{3} x^6 \\right]_{0}^{2} = \\frac{1}{3} (2^6) - \\frac{1}{3} (0^6) = \\frac{1}{3} (64) = \\frac{64}{3}\n",
        "$$\n",
        "\n",
        "Para \\($ \\frac{x^7}{7}) $:\n",
        "\n",
        "$$\n",
        "\\left[ \\frac{x^7}{7} \\right]_{0}^{2} = \\frac{2^7}{7} - \\frac{0^7}{7} = \\frac{128}{7}\n",
        "$$\n",
        "Subtraindo:\n",
        "\n",
        "$$\n",
        "\\frac{64}{3} - \\frac{128}{7}\n",
        "$$\n",
        "\n",
        "\n",
        "$$\n",
        "\\frac{448}{21} - \\frac{384}{21}  = \\frac{64}{21}\n",
        "$$\n",
        "\n",
        "Portanto, a área sob a curva $ y = x^5(2 - x)$ nos primeiros 2 anos é de:\n",
        "\n",
        "$$\n",
        "{\\frac{64}{21}}\n",
        "$$\n"
      ],
      "metadata": {
        "id": "q62xDCtZlteA"
      }
    },
    {
      "cell_type": "markdown",
      "source": [
        "# Questão 2 - Vale até 1 ponto\n",
        "Usando o Python (matplotlib, sympy e numpy) trace o gráfico e calcule a área sob a função $F(x) = x^5(2 - x)$ para $0 \\leq x \\leq 2$. Não esqueça de anotar os pontos, hachurar a área calculada e de imprimir o valor da área encontrada."
      ],
      "metadata": {
        "id": "aTU7tNRaMY4w"
      }
    },
    {
      "cell_type": "code",
      "source": [
        "import numpy as np\n",
        "import matplotlib.pyplot as plt\n",
        "from sympy import symbols, integrate\n",
        "\n",
        "x = symbols('x')\n",
        "f = x**5 * (2 - x)\n",
        "area = integrate(f, (x, 0, 2))\n",
        "area_value = area.evalf()\n",
        "x_vals = np.linspace(0, 2, 400)\n",
        "f_vals = x_vals**5 * (2 - x_vals)\n",
        "plt.figure(figsize=(10, 6))\n",
        "plt.plot(x_vals, f_vals, label='$f(x) = x^5(2 - x)$', color='black')\n",
        "plt.fill_between(x_vals, f_vals, where=(x_vals >= 0) & (x_vals <= 2), color='black', alpha=0.4)\n",
        "plt.xlabel('$x$')\n",
        "plt.ylabel('$f(x)$')\n",
        "plt.legend()\n",
        "plt.grid(True)\n",
        "plt.annotate(f'Área = {area_value:.2f}', xy=(1, 50), xytext=(1, 150),\n",
        "             arrowprops=dict(facecolor='black', shrink=0.05))\n",
        "\n",
        "plt.show()\n",
        "\n",
        "area_value\n"
      ],
      "metadata": {
        "colab": {
          "base_uri": "https://localhost:8080/",
          "height": 562
        },
        "id": "F2BbwW-AmrDc",
        "outputId": "81df3f64-ca2f-4ce2-b30d-c61e19c4d079"
      },
      "execution_count": 15,
      "outputs": [
        {
          "output_type": "display_data",
          "data": {
            "text/plain": [
              "<Figure size 1000x600 with 1 Axes>"
            ],
            "image/png": "[encoded data removed]"
          },
          "metadata": {}
        },
        {
          "output_type": "execute_result",
          "data": {
            "text/plain": [
              "3.04761904761905"
            ],
            "text/latex": "$\\displaystyle 3.04761904761905$"
          },
          "metadata": {},
          "execution_count": 15
        }
      ]
    },
    {
      "cell_type": "markdown",
      "source": [
        "# Questão 3 - Vale até 1 ponto\n",
        "\n",
        "A aceleração de um objeto é dada por $a(t) = \\cos(\\pi t)$, e sua velocidade no tempo $t = 0$ é $\\frac{1}{2\\pi}$. Usando apenas álgebra, encontre a distância total percorrida por este objeto nos primeiros $1,5$ segundos deste movimento. Dica: antes de calcular qualquer coisa verifique cuidadosamente a equação da aceleração. Não é necessário, mas talvez seja interessante, traçar um gráfico da aceleração e outro da velocidade para entender o problema. É necessário entender o movimento do objeto para saber quanto espaço ele realmente percorreu."
      ],
      "metadata": {
        "id": "-iPLzLPUNge9"
      }
    },
    {
      "cell_type": "markdown",
      "source": [
        "1. Determinar a função da velocidade $ v(t) $:\n",
        "\n",
        "$$\n",
        "v(t) = \\int \\cos(\\pi t) \\, dt\n",
        "$$\n",
        "\n",
        "Utilizando a substituição $ u = \\pi t $, $ du = \\pi dt $, temos:\n",
        "\n",
        "$$\n",
        "v(t) = \\frac{1}{\\pi} \\int \\cos(u) \\, du = \\frac{1}{\\pi} \\sin(u) + C = \\frac{1}{\\pi} \\sin(\\pi t) + C\n",
        "$$\n",
        "\n",
        "\n",
        "\n",
        "$$\n",
        "v(0) = \\frac{1}{\\pi} \\sin(0) + C = C = \\frac{1}{2\\pi}\n",
        "$$\n",
        "\n",
        "a funcao de velocidade é:\n",
        "\n",
        "$$\n",
        "v(t) = \\frac{1}{\\pi} \\sin(\\pi t) + \\frac{1}{2\\pi}\n",
        "$$\n",
        "\n",
        "2. Determinar a função da posição $ s(t) $:\n",
        "\n",
        "\n",
        "$$\n",
        "v(t) = \\frac{ds}{dt} = \\frac{1}{\\pi} \\sin(\\pi t) + \\frac{1}{2\\pi}\n",
        "$$\n",
        "\n",
        "Integramos $ v(t) $ para encontrar $ s(t) $:\n",
        "\n",
        "$$\n",
        "s(t) = \\int \\left( \\frac{1}{\\pi} \\sin(\\pi t) + \\frac{1}{2\\pi} \\right) dt\n",
        "$$\n",
        "\n",
        "Dividimos a integral em duas partes:\n",
        "\n",
        "$$\n",
        "s(t) = \\frac{1}{\\pi} \\int \\sin(\\pi t) \\, dt + \\frac{1}{2\\pi} \\int 1 \\, dt\n",
        "$$\n",
        "\n",
        "Para a primeira parte, usamos a substituição $ u = \\pi t $, $ du = \\pi \\, dt $:\n",
        "\n",
        "$$\n",
        "\\frac{1}{\\pi} \\int \\sin(\\pi t) \\, dt = \\frac{1}{\\pi} \\left( -\\frac{1}{\\pi} \\cos(\\pi t) \\right) = -\\frac{1}{\\pi^2} \\cos(\\pi t)\n",
        "$$\n",
        "\n",
        "Para a segunda parte:\n",
        "\n",
        "$$\n",
        "\\frac{1}{2\\pi} \\int 1 \\, dt = \\frac{1}{2\\pi} t\n",
        "$$\n",
        "\n",
        "\n",
        "\n",
        "$$\n",
        "s(t) = -\\frac{1}{\\pi^2} \\cos(\\pi t) + \\frac{1}{2\\pi} t + C\n",
        "$$\n",
        "\n",
        "Usamos a condição inicial $ s(0) = 0 $:\n",
        "\n",
        "$$\n",
        "s(0) = -\\frac{1}{\\pi^2} \\cos(0) + C = 0 \\Rightarrow C = \\frac{1}{\\pi^2}\n",
        "$$\n",
        "a função da posição é:\n",
        "\n",
        "$$\n",
        "s(t) = -\\frac{1}{\\pi^2} \\cos(\\pi t) + \\frac{1}{2\\pi} t + \\frac{1}{\\pi^2}\n",
        "$$\n",
        "\n",
        "3. Calcular a posição em $ t = 1.5 $:\n",
        "\n",
        "$$\n",
        "s(1.5) = -\\frac{1}{\\pi^2} \\cos(\\pi \\cdot 1.5) + \\frac{1}{2\\pi} \\cdot 1.5 + \\frac{1}{pi^2}\n",
        "$$\n",
        "\n",
        "$$\n",
        "s(1.5) = -\\frac{1}{\\pi^2} \\cdot 0 + \\frac{1.5}{2\\pi} + \\frac{1}{\\pi^2} = \\frac{1.5}{2\\pi} + \\frac{1}{\\pi^2}\n",
        "$$\n",
        "\n",
        "Simplificando:\n",
        "\n",
        "$$\n",
        "= \\frac{0.75}{\\pi} + \\frac{1}{\\pi^2}\n",
        "$$\n"
      ],
      "metadata": {
        "id": "M02OsEyuno8H"
      }
    },
    {
      "cell_type": "markdown",
      "source": [
        "# Questão 4 - Vale até 1 ponto\n",
        "\n",
        "Encontre a área limitada por $f(x) = -x^2 + 4x + 1$, $g(x) = -x^3 + 7x^2 - 10x + 3$ para  $1\\leq x \\leq 2$. Nesta questão você pode usar álgebra, ou Python, considerando as limitações de usos de bibliotecas definidas para esta avaliação.  \n"
      ],
      "metadata": {
        "id": "CMdRv02PAz38"
      }
    },
    {
      "cell_type": "code",
      "source": [
        "import numpy as np\n",
        "import matplotlib.pyplot as plt\n",
        "\n",
        "def f(x):\n",
        "    return -x**2 + 4*x + 1\n",
        "\n",
        "def g(x):\n",
        "    return -x**3 + 7*x**2 - 10*x + 3\n",
        "\n",
        "x_vals = np.linspace(1, 2, 100)\n",
        "f_vals = f(x_vals)\n",
        "g_vals = g(x_vals)\n",
        "plt.figure(figsize=(10, 6))\n",
        "plt.plot(x_vals, f_vals, label='$f(x) = -x^2 + 4x + 1$', color='green')\n",
        "plt.plot(x_vals, g_vals, label='$g(x) = -x^3 + 7x^2 - 10x + 3$', color='yellow')\n",
        "plt.fill_between(x_vals, f_vals, g_vals, where=(f_vals < g_vals), color='skyblue', alpha=0.4)\n",
        "plt.title('Área entre $f(x) = -x^2 + 4x + 1$ e $g(x) = -x^3 + 7x^2 - 10x + 3$')\n",
        "plt.xlabel('$x$')\n",
        "plt.ylabel('$f(x)$ e $g(x)$')\n",
        "plt.legend()\n",
        "plt.grid(True)\n",
        "plt.show()\n",
        "x_range = np.linspace(1, 2, 100)\n",
        "f_range = f(x_range)\n",
        "g_range = g(x_range)\n",
        "area_between_curves_value = np.trapz(np.minimum(f_range, g_range), x_range)\n",
        "print(\"A área limitada por f(x) e g(x) para 1 ≤ x ≤ 2 é:\", area_between_curves_value)\n"
      ],
      "metadata": {
        "colab": {
          "base_uri": "https://localhost:8080/",
          "height": 586
        },
        "id": "6-iohtlUp5qU",
        "outputId": "20c390c0-ba60-4afd-b756-a3c9e2b2add6"
      },
      "execution_count": 8,
      "outputs": [
        {
          "output_type": "display_data",
          "data": {
            "text/plain": [
              "<Figure size 1000x600 with 1 Axes>"
            ],
            "image/png": "[encoded data removed]"
          },
          "metadata": {}
        },
        {
          "output_type": "stream",
          "name": "stdout",
          "text": [
            "A área limitada por f(x) e g(x) para 1 ≤ x ≤ 2 é: 0.5833758460021087\n"
          ]
        }
      ]
    },
    {
      "cell_type": "markdown",
      "source": [
        "# Questão 5 - Vale até 1 ponto\n",
        "\n",
        "Use o método dos discos para determinar o volume do sólido obtido pela rotação da região delimitada pelas funções $y = \\sqrt{x}$, $y = 3$ e o próprio eixo $y$ em torno do eixo $y$.\n"
      ],
      "metadata": {
        "id": "53zwpYIEF4fI"
      }
    },
    {
      "cell_type": "markdown",
      "source": [
        "\n",
        "\n",
        "Para determinar o volume do sólido obtido pela rotação da região delimitada pelas funções \\( y = \\sqrt{x} \\), \\( y = 3 \\) e o eixo \\( y \\) em torno do eixo \\( y \\), utilizamos o método dos discos (ou anéis).\n",
        "\n",
        "Primeiro, identificamos os limites da região. A curva \\( y = \\sqrt{x} \\) encontra a linha \\( y = 3 \\) quando:\n",
        "\n",
        "$$\n",
        "\\sqrt{x} = 3\n",
        "$$\n",
        "$$\n",
        "x = 9\n",
        "$$\n",
        "\n",
        "Portanto, a região é delimitada por $ y = \\sqrt{x} $ para $ 0 \\leq x \\leq 9 $ e por $y = 3 $ no eixo  y.\n",
        "\n",
        "Quando a região é rotacionada em torno do eixo $ y $, formamos discos com espessura infinitesimal $ dy $. A área do disco é dada pela diferença dos raios externos e internos, onde o raio externo é a linha $ y = 3 $ e o raio interno é a curva  y = $\\sqrt{x} $.\n",
        "\n",
        "Para um valor \\( y \\) entre 0 e 3:\n",
        "- O raio externo é 3.\n",
        "- O raio interno é \\( x \\), mas \\( x \\) em termos de \\( y \\) é \\( y^2 \\).\n",
        "\n",
        " o volume de um disco infinitesimal é:\n",
        "\n",
        "$$\n",
        "dV = \\pi (R_{\\text{externo}}^2 - R_{\\text{interno}}^2) \\, dy\n",
        "$$\n",
        "$$\n",
        "dV = \\pi (3^2 - (y^2)^2) \\, dy\n",
        "$$\n",
        "$$\n",
        "dV = \\pi (9 - y^4) \\, dy\n",
        "$$\n",
        "\n",
        "Para encontrar o volume total, integramos \\( dV \\) de \\( y = 0 \\) até \\( y = 3 \\):\n",
        "\n",
        "$$\n",
        "V = \\int_0^3 \\pi (9 - y^4) \\, dy\n",
        "$$\n",
        "\n",
        "Calculando a integral:\n",
        "\n",
        "$$\n",
        "V = \\pi \\int_0^3 (9 - y^4) \\, dy\n",
        "$$\n",
        "$$\n",
        "V = \\pi \\left[ \\int_0^3 9 \\, dy - \\int_0^3 y^4 \\, dy \\right]\n",
        "$$\n",
        "\n",
        "Calculando cada integral separadamente:\n",
        "\n",
        "1.\n",
        "$$\n",
        "\\int_0^3 9 \\, dy = 9y \\Big|_0^3 = 9 \\cdot 3 - 9 \\cdot 0 = 27\n",
        "$$\n",
        "2.\n",
        "$$\n",
        "\\int_0^3 y^4 \\, dy = \\frac{y^5}{5} \\Big|_0^3 = \\frac{3^5}{5} - \\frac{0^5}{5} = \\frac{243}{5}\n",
        "$$\n",
        "\n",
        "Substituindo de volta:\n",
        "\n",
        "$$\n",
        "V = \\pi \\left[ 27 - \\frac{243}{5} \\right]\n",
        "$$\n",
        "\n",
        "Simplificando a expressão:\n",
        "\n",
        "$$\n",
        "V = \\pi \\left( 27 - \\frac{243}{5} \\right)\n",
        "$$\n",
        "$$\n",
        "V = \\pi \\left( \\frac{135}{5} - \\frac{243}{5} \\right)\n",
        "$$\n",
        "$$\n",
        "V = \\pi \\left( \\frac{135 - 243}{5} \\right)\n",
        "$$\n",
        "$$\n",
        "V = \\pi \\left( \\frac{-108}{5} \\right)\n",
        "$$\n",
        "$$\n",
        "V = -\\frac{108\\pi}{5}\n",
        "$$\n",
        "\n",
        "Como o volume é uma quantidade positiva, o sinal negativo indica que consideramos a área de maneira incorreta em relação aos limites da função.\n",
        "\n",
        "Portanto, o volume do sólido é:\n",
        "\n",
        "$$\n",
        "V = \\frac{108\\pi}{5}\n",
        "$$\n",
        "\n"
      ],
      "metadata": {
        "id": "y48wa1NlssVS"
      }
    },
    {
      "cell_type": "markdown",
      "source": [
        "# Questão 6 - Vale até 3 pontos\n",
        "Para os problemas a e b, determine a média, usando a integração, para a funções nos intervalos especificados.\n",
        "\n",
        "a. $f(x) = 8x - 3 + 5e^{2-x}$ no intervalo $[0, 2]$ - Vale 1 ponto\n",
        "\n",
        "b. Considere que a posição de um objeto em movimento ao longo do eixo $ x $ é descrita pela função de deslocamento $ x(t) = t^3 - 6t^2 + 9t + 1 $, onde $ x(t) $ está em metros e $t$ está em segundos. Determine a velocidade média do objeto no intervalo de tempo de $ t = 1$ segundo até $t = 4$ segundos. - Vale 2 pontos"
      ],
      "metadata": {
        "id": "dr5lNibpLKmh"
      }
    },
    {
      "cell_type": "markdown",
      "source": [
        "\n",
        "\n",
        "a)\n",
        "\n",
        " usando a fórmula para a média da função:\n",
        "$$ \\text{Média} = \\frac{1}{b-a} \\int_a^b f(x) \\, dx $$\n",
        "$ a = 0 $ e $ b = 2 $.\n",
        "\n",
        "\n",
        "Integramos cada termo separadamente:\n",
        "$$ \\int_0^2 8x \\, dx = 8 \\int_0^2 x \\, dx = 8 \\left[ \\frac{x^2}{2} \\right]_0^2 = 8 \\left( \\frac{2^2}{2} - \\frac{0^2}{2} \\right) = 8 \\left( 2 \\right) = 16 $$\n",
        "\n",
        "$$ \\int_0^2 -3 \\, dx = -3 \\left[ x \\right]_0^2 = -3 (2 - 0) = -6 $$\n",
        "\n",
        "\n",
        "$$ \\int_0^2 (8x - 3 + 5e^{2-x}) \\, dx = 16 - 6 + 5(e^2 - 1) = 10 + 5e^2 - 5 = 5e^2 + 5 $$\n",
        "\n",
        "$$ \\text{Média} = \\frac{1}{2-0} \\int_0^2 f(x) \\, dx = \\frac{1}{2} (5e^2 + 5) = \\frac{5e^2 + 5}{2} $$\n",
        "\n",
        "$$\n",
        "={\\frac{5e^2 + 5}{2}}\n",
        "$$\n",
        "\n",
        "*b)*\n",
        "\n",
        "$$ v_{\\text{média}} = \\frac{x(b) - x(a)}{b - a} $$\n",
        "$ a = 1 $ e $ b = 4 $\n",
        "$ x(1) $ e $ x(4) $:\n",
        "\n",
        "$$\n",
        "x(1) = 1^3 - 6(1^2) + 9(1) + 1 = 1 - 6 + 9 + 1 = 5\n",
        "$$\n",
        "\n",
        "$$\n",
        "x(4) = 4^3 - 6(4^2) + 9(4) + 1 = 64 - 96 + 36 + 1 = 5\n",
        "$$\n",
        "\n",
        "A velocidade média é:\n",
        "$$\n",
        "v_{\\text{média}} = \\frac{x(4) - x(1)}{4 - 1} = \\frac{5 - 5}{3} = 0\n",
        "$$\n"
      ],
      "metadata": {
        "id": "nL8G0-QfnQHd"
      }
    },
    {
      "cell_type": "markdown",
      "source": [
        "# Questão 7 - Vale até 2 pontos\n",
        "\n",
        "Nos ítens a, b a seguir, encontre a família de antiderivadas das seguintes funções:\n",
        "\n",
        "a. $f(x) = 4x^3 - 6x^2 + 2x - 5 $.\n",
        "\n",
        "b. $f(x) = \\frac{1}{x} + e^x$ para todo $x\\neq 0$.\n",
        "\n",
        "\n"
      ],
      "metadata": {
        "id": "j_fo89ayUveW"
      }
    },
    {
      "cell_type": "markdown",
      "source": [
        "\n",
        "\n",
        "a)\n",
        "Para encontrar a família de antiderivadas, precisamos integrar a função $ f(x) $.\n",
        "\n",
        "$$ f(x) = 4x^3 - 6x^2 + 2x - 5 $$\n",
        "\n",
        "Aplicando a regra da integração:\n",
        "$$ \\int x^n \\, dx = \\frac{x^{n+1}}{n+1} + C $$\n",
        "\n",
        "1)  $ 4x^3 $:\n",
        "$$ \\int 4x^3 \\, dx = 4 \\int x^3 \\, dx = 4 \\left( \\frac{x^4}{4} \\right) = x^4 $$\n",
        "\n",
        "2)  $ -6x^2 $:\n",
        "$$ \\int -6x^2 \\, dx = -6 \\int x^2 \\, dx = -6 \\left( \\frac{x^3}{3} \\right) = -2x^3 $$\n",
        "\n",
        "3)  $ 2x $:\n",
        "$$ \\int 2x \\, dx = 2 \\int x \\, dx = 2 \\left( \\frac{x^2}{2} \\right) = x^2 $$\n",
        "\n",
        "4) $ -5 $:\n",
        "$$ \\int -5 \\, dx = -5x $$\n",
        "\n",
        "Portanto, a família de antiderivadas é:\n",
        "\n",
        "$$ \\int (4x^3 - 6x^2 + 2x - 5) \\, dx = x^4 - 2x^3 + x^2 - 5x + C $$\n",
        "\n",
        "e $ C $ é a constante de integração.\n",
        "\n",
        "*b)*\n",
        "\n",
        "$$ f(x) = \\frac{1}{x} + e^x $$\n",
        "\n",
        "Integramos cada termo da função:\n",
        "\n",
        "1. Para $ \\frac{1}{x} $:\n",
        "$$ \\int \\frac{1}{x} \\, dx = \\ln |x| $$\n",
        "\n",
        "2. Para $ e^x $:\n",
        "$$ \\int e^x \\, dx = e^x $$\n",
        "\n",
        "a família de antiderivadas é:\n",
        "\n",
        "$$ \\int \\left( \\frac{1}{x} + e^x \\right) \\, dx = \\ln |x| + e^x + C $$\n",
        "\n"
      ],
      "metadata": {
        "id": "IcL81FkdtQow"
      }
    }
  ]
}